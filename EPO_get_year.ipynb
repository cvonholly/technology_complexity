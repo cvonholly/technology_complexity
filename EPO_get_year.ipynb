{
  "cells": [
    {
      "cell_type": "code",
      "execution_count": 28,
      "metadata": {
        "colab": {
          "base_uri": "https://localhost:8080/"
        },
        "id": "9_TFudisp_cX",
        "outputId": "b2096592-6b4b-42ce-d4b0-7687b6004e1b"
      },
      "outputs": [],
      "source": [
        "import numpy as np\n",
        "import pandas as pd\n",
        "import epo_ops\n",
        "import xml.etree.ElementTree as ET"
      ]
    },
    {
      "cell_type": "code",
      "execution_count": 29,
      "metadata": {
        "id": "qN0p71ZgtokP"
      },
      "outputs": [],
      "source": [
        "with open('keys/epo_api_key', 'r') as file:\n",
        "    consumer_secret = file.read().strip()\n",
        "consumer_key = \"5wpmow69fw4pjAXRrSKKVrlpHpuGgX9bFwlrVmX9XGAKKCHo\""
      ]
    },
    {
      "cell_type": "code",
      "execution_count": 30,
      "metadata": {},
      "outputs": [],
      "source": [
        "names = [\"FW\", \"LC\", \"LIB\",  \"SC\", \"SPV\", \"Wind\"]  # technology file names\n",
        "# names = [\"Wind\"]  # technology file names\"Wind\""
      ]
    },
    {
      "cell_type": "code",
      "execution_count": 31,
      "metadata": {},
      "outputs": [],
      "source": [
        "all_dfs = []\n",
        "for n in names:\n",
        "    df = pd.read_excel(f'unlabeled_data/{n}_EPO.xlsx')\n",
        "    all_dfs.append(df)"
      ]
    },
    {
      "cell_type": "code",
      "execution_count": 32,
      "metadata": {},
      "outputs": [],
      "source": [
        "def raw_to_prop_pub(pub_nrs: list):\n",
        "    for i in range(len(pub_nrs)):\n",
        "        diff = 7 - len(pub_nrs[i])\n",
        "        if diff > 0:\n",
        "            pub_nrs[i] = '0' * diff + pub_nrs[i]\n",
        "        elif diff < 0:\n",
        "            print('invalid publication number')\n",
        "            pub_nrs[i] = np.nan\n",
        "        pub_nrs[i] = 'EP' + pub_nrs[i]\n",
        "    return pub_nrs"
      ]
    },
    {
      "cell_type": "code",
      "execution_count": 33,
      "metadata": {
        "id": "ecGhYlEyr2nQ"
      },
      "outputs": [],
      "source": [
        "def resp_to_pub_date(response):\n",
        "  # Parse XML\n",
        "  xml_response = response.text\n",
        "\n",
        "  ns = {\"epo\": \"http://www.epo.org/exchange\"}  # Define the namespace\n",
        "  root = ET.fromstring(xml_response)\n",
        "\n",
        "  # Find the publication date using XPath\n",
        "  pub_date = root.find(\".//epo:publication-reference/epo:document-id/epo:date\", ns)\n",
        "\n",
        "  if pub_date is not None:\n",
        "    dt = pd.to_datetime(pub_date.text[:8], format='%Y%m%d')\n",
        "    # print(f\"Publication Year: {dt.year}\")\n",
        "    return dt\n",
        "  else:\n",
        "    # print(\"Publication date not found.\")\n",
        "    return None"
      ]
    },
    {
      "cell_type": "code",
      "execution_count": 34,
      "metadata": {
        "id": "hMi9KLOPlaus"
      },
      "outputs": [],
      "source": [
        "def get_EP_pub_date(pub_numbers):\n",
        "  \"\"\"\n",
        "  runs API to get publication date in format YYYYMMDD\n",
        "  \"\"\"\n",
        "  pub_date = []\n",
        "  client = epo_ops.Client(key=consumer_key, secret=consumer_secret)  # Instantiate client\n",
        "  for p in pub_numbers:\n",
        "    try:\n",
        "      response = client.published_data(  # Retrieve bibliography data\n",
        "        reference_type = 'publication',  # publication, application, priority\n",
        "        input = epo_ops.models.Epodoc(p), # \n",
        "        endpoint = 'biblio',  # optional, defaults to biblio in case of published_data\n",
        "        constituents = []  # optional, list of constituents\n",
        "      )\n",
        "      dt = resp_to_pub_date(response)\n",
        "      if dt is not None:\n",
        "        pub_date.append(dt)\n",
        "      else:\n",
        "        pub_date.append(np.nan)\n",
        "    except Exception as e:\n",
        "      print('client call failed: ')\n",
        "      print(e)\n",
        "      pub_date.append(np.nan)\n",
        "      continue\n",
        "  return pub_date"
      ]
    },
    {
      "cell_type": "code",
      "execution_count": null,
      "metadata": {},
      "outputs": [
        {
          "name": "stdout",
          "output_type": "stream",
          "text": [
            "starting date extraction for FW\n"
          ]
        }
      ],
      "source": [
        "i=0\n",
        "for df in all_dfs:\n",
        "    print('starting date extraction for', names[i])\n",
        "    \n",
        "    df.dropna(subset=['Publn_nr'], inplace=True)    # drop non defined publication numbers\n",
        "    \n",
        "    pub_numbers = df['Publn_nr'].unique().astype(list)\n",
        "    df_u = df.drop_duplicates(subset=['Publn_nr'])  # unique claims (sort by patent)\n",
        "    pub_numbers = pub_numbers.astype(int).astype(str)\n",
        "\n",
        "    pub_formatted = raw_to_prop_pub(pub_numbers)   # convert to proper format\n",
        "\n",
        "    # run the API request\n",
        "    list_of_dfs = []\n",
        "    dates = get_EP_pub_date(pub_formatted)\n",
        "\n",
        "    # save dates\n",
        "    df_dates = pd.DataFrame({'Publn_nr': pub_formatted, 'pub_date': dates})\n",
        "    df_dates.to_csv(f'unlabeled_data/{names[i]}_EPO_dates.csv', index=False)\n",
        "    i += 1"
      ]
    }
  ],
  "metadata": {
    "accelerator": "GPU",
    "colab": {
      "gpuType": "T4",
      "provenance": []
    },
    "kernelspec": {
      "display_name": ".venv",
      "language": "python",
      "name": "python3"
    },
    "language_info": {
      "codemirror_mode": {
        "name": "ipython",
        "version": 3
      },
      "file_extension": ".py",
      "mimetype": "text/x-python",
      "name": "python",
      "nbconvert_exporter": "python",
      "pygments_lexer": "ipython3",
      "version": "3.11.8"
    }
  },
  "nbformat": 4,
  "nbformat_minor": 0
}
