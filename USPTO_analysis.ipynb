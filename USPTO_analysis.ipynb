{
 "cells": [
  {
   "cell_type": "code",
   "execution_count": 244,
   "metadata": {},
   "outputs": [],
   "source": [
    "import pandas as pd\n",
    "import math as mt\n",
    "import re\n",
    "import numpy as np\n",
    "import matplotlib.pyplot as plt\n",
    "\n",
    "from helpers import get_claims, concantenate_claims, checkRoman"
   ]
  },
  {
   "cell_type": "markdown",
   "metadata": {},
   "source": [
    "## apply NLP\n",
    "\n",
    "pre: patents sorted from earliest to latest patent"
   ]
  },
  {
   "cell_type": "code",
   "execution_count": 245,
   "metadata": {},
   "outputs": [],
   "source": [
    "names = [\"FW\", \"LC\", \"LIB\",  \"SC\", \"SPV\", \"Wind\"]  # technology file names\n",
    "n = \"SC\"  # other tech"
   ]
  },
  {
   "cell_type": "code",
   "execution_count": 246,
   "metadata": {},
   "outputs": [],
   "source": [
    "df = pd.read_excel(f'sorted_data/DB_{n}_USPTO_sorted.xlsx')\n",
    "df['Publn_Nr'] = df['Publn_Nr'].astype(int)"
   ]
  },
  {
   "cell_type": "code",
   "execution_count": 247,
   "metadata": {},
   "outputs": [],
   "source": [
    "from nltk.stem.snowball import SnowballStemmer\n",
    "from nltk.corpus import stopwords\n",
    "import nltk\n",
    "import operator\n",
    "import re"
   ]
  },
  {
   "cell_type": "code",
   "execution_count": 248,
   "metadata": {},
   "outputs": [
    {
     "name": "stderr",
     "output_type": "stream",
     "text": [
      "[nltk_data] Downloading package stopwords to\n",
      "[nltk_data]     C:\\Users\\carlv\\AppData\\Roaming\\nltk_data...\n",
      "[nltk_data]   Package stopwords is already up-to-date!\n"
     ]
    },
    {
     "data": {
      "text/plain": [
       "True"
      ]
     },
     "execution_count": 248,
     "metadata": {},
     "output_type": "execute_result"
    }
   ],
   "source": [
    "nltk.download('stopwords')"
   ]
  },
  {
   "cell_type": "code",
   "execution_count": 249,
   "metadata": {},
   "outputs": [],
   "source": [
    "patent_claims = []  # list to store all patents claims for technology for year\n",
    "list_replace = []\n",
    "stwrds = stopwords.words('english')\n",
    "stemmer = SnowballStemmer('english')\n"
   ]
  },
  {
   "cell_type": "code",
   "execution_count": 250,
   "metadata": {},
   "outputs": [],
   "source": [
    "def get_tokens(text: str) -> tuple[list, dict]:\n",
    "    # Standardize greek letters and eliminate symbols\n",
    "    line = text.strip().lower()\n",
    "    # Standardize greek letters and eliminate symbols\n",
    "    for r in list_replace:\n",
    "        line = line.replace(*r)\n",
    "    # Replace .sub. and .sup. in each patent\n",
    "    line = line.replace('.sub.', '')\n",
    "    line = line.replace('.sup.', '')\n",
    "    # Extract tokens using a regular expression\n",
    "    tokens = re.findall('[a-z0-9][a-z0-9-]*[a-z0-9]+|[a-z0-9]', line)\n",
    "    tokens = set(tokens)\n",
    "    # Remove stopwords, and words of only one char and compossed only\n",
    "    # of numbers\n",
    "    tokens = [token for token in tokens if len(token) > 1 and\n",
    "                token not in stwrds and\n",
    "                not token.replace('-', '').isnumeric()]\n",
    "    tokens = [stemmer.stem(token) for token in tokens]\n",
    "    tokens = set(tokens)\n",
    "    tokens = list(tokens)\n",
    "    tokens.sort()\n",
    "    tokens = [token for token in tokens if len(token) > 1 and\n",
    "                token not in stwrds and\n",
    "                not checkRoman(token)]\n",
    "    count = {}\n",
    "    # count occurances of each token\n",
    "    for token in tokens:\n",
    "        c = text.count(token)\n",
    "        if c > 0:\n",
    "            count[token] = c\n",
    "        else:   # discard if token does not occur in text\n",
    "            tokens.remove(token)\n",
    "    # # sort tokens by frequency\n",
    "    # tokens = sorted(count.items(), key=operator.itemgetter(1), reverse=True)\n",
    "    return tokens, count"
   ]
  },
  {
   "cell_type": "code",
   "execution_count": 251,
   "metadata": {},
   "outputs": [],
   "source": [
    "def update_total_counts(counts_total: dict, c2: dict):\n",
    "    \"\"\"\n",
    "    add words from c2 to counts_total\n",
    "    \"\"\"\n",
    "    for t, c in c2.items():\n",
    "        if t in counts_total:\n",
    "            counts_total[t] += c\n",
    "        else:\n",
    "            counts_total[t] = c"
   ]
  },
  {
   "cell_type": "code",
   "execution_count": 252,
   "metadata": {},
   "outputs": [],
   "source": [
    "def get_entropy(counts: dict) -> float:\n",
    "    \"\"\"\n",
    "    Calculate the entropy of a dictionary of token counts\n",
    "    \"\"\"\n",
    "    entropy = 0\n",
    "    total = sum(counts.values())\n",
    "    for _, count in counts.items():\n",
    "        p = count / total\n",
    "        entropy += p * mt.log2(1/p)\n",
    "    return entropy"
   ]
  },
  {
   "cell_type": "code",
   "execution_count": 253,
   "metadata": {},
   "outputs": [],
   "source": [
    "def get_cross_entropy(counts: dict, counts_2: dict) -> float:\n",
    "    \"\"\"\n",
    "    Calculate the cross-entropy of a dictionary of token counts\n",
    "\n",
    "    if token not in count_2, then q = p\n",
    "    \n",
    "    \"\"\"\n",
    "    entropy = 0\n",
    "    total = sum(counts.values())\n",
    "    for token, count in counts.items():\n",
    "        if count > 0:\n",
    "            p = count / total\n",
    "            if token in counts_2:\n",
    "                q = counts_2[token] / total\n",
    "                entropy = p * mt.log2(1/q)\n",
    "            else:\n",
    "                entropy = p * mt.log2(1/p)\n",
    "    return entropy"
   ]
  },
  {
   "cell_type": "code",
   "execution_count": null,
   "metadata": {},
   "outputs": [],
   "source": [
    "# get claims ordered by publication date\n",
    "total_entropies = []  \n",
    "entropies = []   # conditional entropies for each patent, sorted by publication date\n",
    "counts_total = {}\n",
    "\n",
    "counts_dict = {}\n",
    "\n",
    "j = -1\n",
    "for pub_nr in df['Publn_Nr'].unique():\n",
    "    claims = get_claims(df, pub_nr)\n",
    "    if claims.empty:\n",
    "        entropies.append(np.nan)  # add NA if no claims in data set\n",
    "        continue    # skip if no claims in data set\n",
    "    text = concantenate_claims(claims)  # concantenate claims\n",
    "    tokens, count = get_tokens(text)    # get tokens and counts of words\n",
    "\n",
    "    update_total_counts(counts_total, count)  # update total counts for conditional entropy\n",
    "    \n",
    "    \"\"\"\n",
    "    conditional entropy\n",
    "    H(X|Y) = H(X,Y) - H(Y)\n",
    "    \"\"\"\n",
    "    \n",
    "    e = get_entropy(counts_total)   # updated total entropy\n",
    "    total_entropies.append(e)\n",
    "    if j >= 0:\n",
    "        cond_entropy = e - total_entropies[j]  \n",
    "        entropies.append(cond_entropy)\n",
    "    else:\n",
    "        entropies.append(e)\n",
    "    j += 1\n",
    "    \n",
    "    \n",
    "    # entropy_Y = get_entropy(counts_total)\n",
    "    # counts_total = get_total_counts(counts_total, count)  # update total counts for conditional entropy\n",
    "    # entropy = get_entropy(counts_total) - entropy_Y\n",
    "    # entropies.append(entropy)\n",
    "\n",
    "    # get entropy of compared to the last 20 patents\n",
    "    \"\"\"\n",
    "    H_Y(X) where Y is the last 20 patents, X is the new patent\n",
    "    it shows a very fluctuating plot, as expected, as the innovation is always \"normalized\" compared to the last 20 patents\n",
    "    \"\"\"\n",
    "    # counts_dict[pub_nr] = count\n",
    "    # if len(counts_dict) > 20:\n",
    "    #     last_20 = dict(list(counts_dict.items())[-20:])\n",
    "    #     cond_entropy = get_cross_entropy(count, last_20)\n",
    "    #     entropies.append(cond_entropy)\n",
    "    # else:\n",
    "    #     entropies.append(np.nan)\n",
    "    \n",
    "    \n",
    "    # get single entropy\n",
    "    \"\"\"\n",
    "    similar to H_Y(X) \n",
    "    \"\"\"\n",
    "    # cond_entropy = get_entropy(count)\n",
    "    "
   ]
  },
  {
   "cell_type": "code",
   "execution_count": null,
   "metadata": {},
   "outputs": [],
   "source": [
    "df_unique = df.drop_duplicates(subset=['Publn_Nr'])[['Publn_Nr', 'Publn_Date']]\n",
    "df_unique['Entropy'] = entropies"
   ]
  },
  {
   "cell_type": "code",
   "execution_count": null,
   "metadata": {},
   "outputs": [],
   "source": [
    "df_unique['Publn_Date'] = pd.to_datetime(df_unique['Publn_Date'])"
   ]
  },
  {
   "cell_type": "code",
   "execution_count": null,
   "metadata": {},
   "outputs": [],
   "source": [
    "start = df_unique['Publn_Date'].values[0]\n",
    "end = start + pd.DateOffset(years=1)"
   ]
  },
  {
   "cell_type": "code",
   "execution_count": null,
   "metadata": {},
   "outputs": [
    {
     "data": {
      "image/png": "[encoded data removed]",
      "text/plain": [
       "<Figure size 640x480 with 1 Axes>"
      ]
     },
     "metadata": {},
     "output_type": "display_data"
    }
   ],
   "source": [
    "df_unique.plot(x='Publn_Date', y='Entropy', kind='line', marker='o', title=f'Total Entropy for {n} patents, 1 year')\n",
    "# plt.xlim(start, end)\n",
    "plt.show()"
   ]
  },
  {
   "cell_type": "code",
   "execution_count": null,
   "metadata": {},
   "outputs": [],
   "source": [
    "df_unique.to_csv(f'entropy_data/cond_entropy_{n}.csv', index=False)"
   ]
  }
 ],
 "metadata": {
  "kernelspec": {
   "display_name": ".venv",
   "language": "python",
   "name": "python3"
  },
  "language_info": {
   "codemirror_mode": {
    "name": "ipython",
    "version": 3
   },
   "file_extension": ".py",
   "mimetype": "text/x-python",
   "name": "python",
   "nbconvert_exporter": "python",
   "pygments_lexer": "ipython3",
   "version": "3.11.8"
  }
 },
 "nbformat": 4,
 "nbformat_minor": 2
}
