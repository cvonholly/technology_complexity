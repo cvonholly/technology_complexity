{
 "cells": [
  {
   "cell_type": "code",
   "execution_count": null,
   "metadata": {},
   "outputs": [],
   "source": [
    "import pandas as pd\n",
    "import math as mt\n",
    "import re\n",
    "import numpy as np\n",
    "import matplotlib.pyplot as plt\n",
    "\n",
    "from helpers import get_claims, concantenate_claims, checkRoman"
   ]
  },
  {
   "cell_type": "markdown",
   "metadata": {},
   "source": [
    "## apply NLP\n",
    "\n",
    "pre: patents sorted from earliest to latest patent"
   ]
  },
  {
   "cell_type": "code",
   "execution_count": 168,
   "metadata": {},
   "outputs": [],
   "source": [
    "names = [\"FW\", \"LC\", \"LIB\",  \"SC\", \"SPV\", \"Wind\"]  # technology file names\n",
    "n = \"FW\"  # other tech"
   ]
  },
  {
   "cell_type": "code",
   "execution_count": 169,
   "metadata": {},
   "outputs": [],
   "source": [
    "df = pd.read_excel(f'sorted_data/DB_{n}_USPTO_sorted.xlsx')\n",
    "df['Publn_Nr'] = df['Publn_Nr'].astype(int)"
   ]
  },
  {
   "cell_type": "code",
   "execution_count": 172,
   "metadata": {},
   "outputs": [],
   "source": [
    "from nltk.stem.snowball import SnowballStemmer\n",
    "from nltk.corpus import stopwords\n",
    "import nltk\n",
    "import operator\n",
    "import re"
   ]
  },
  {
   "cell_type": "code",
   "execution_count": 173,
   "metadata": {},
   "outputs": [
    {
     "name": "stderr",
     "output_type": "stream",
     "text": [
      "[nltk_data] Downloading package stopwords to\n",
      "[nltk_data]     C:\\Users\\carlv\\AppData\\Roaming\\nltk_data...\n",
      "[nltk_data]   Package stopwords is already up-to-date!\n"
     ]
    },
    {
     "data": {
      "text/plain": [
       "True"
      ]
     },
     "execution_count": 173,
     "metadata": {},
     "output_type": "execute_result"
    }
   ],
   "source": [
    "nltk.download('stopwords')"
   ]
  },
  {
   "cell_type": "code",
   "execution_count": 174,
   "metadata": {},
   "outputs": [],
   "source": [
    "patent_claims = []  # list to store all patents claims for technology for year\n",
    "list_replace = []\n",
    "stwrds = stopwords.words('english')\n",
    "stemmer = SnowballStemmer('english')\n"
   ]
  },
  {
   "cell_type": "code",
   "execution_count": 175,
   "metadata": {},
   "outputs": [],
   "source": [
    "def get_tokens(text: str) -> tuple[list, dict]:\n",
    "    # Standardize greek letters and eliminate symbols\n",
    "    line = text.strip().lower()\n",
    "    # Standardize greek letters and eliminate symbols\n",
    "    for r in list_replace:\n",
    "        line = line.replace(*r)\n",
    "    # Replace .sub. and .sup. in each patent\n",
    "    line = line.replace('.sub.', '')\n",
    "    line = line.replace('.sup.', '')\n",
    "    # Extract tokens using a regular expression\n",
    "    tokens = re.findall('[a-z0-9][a-z0-9-]*[a-z0-9]+|[a-z0-9]', line)\n",
    "    tokens = set(tokens)\n",
    "    # Remove stopwords, and words of only one char and compossed only\n",
    "    # of numbers\n",
    "    tokens = [token for token in tokens if len(token) > 1 and\n",
    "                token not in stwrds and\n",
    "                not token.replace('-', '').isnumeric()]\n",
    "    tokens = [stemmer.stem(token) for token in tokens]\n",
    "    tokens = set(tokens)\n",
    "    tokens = list(tokens)\n",
    "    tokens.sort()\n",
    "    tokens = [token for token in tokens if len(token) > 1 and\n",
    "                token not in stwrds and\n",
    "                not checkRoman(token)]\n",
    "    count = {}\n",
    "    # count occurances of each token\n",
    "    for token in tokens:\n",
    "        count[token] = text.count(token)\n",
    "    # sort tokens by frequency\n",
    "    tokens = sorted(count.items(), key=operator.itemgetter(1), reverse=True)\n",
    "    return tokens, count"
   ]
  },
  {
   "cell_type": "code",
   "execution_count": null,
   "metadata": {},
   "outputs": [],
   "source": [
    "def update_total_counts(counts_total: dict, tokens: list) -> dict:\n",
    "    for token, count in tokens.items():\n",
    "        if token in counts_total:\n",
    "            counts_total[token] += count\n",
    "        else:\n",
    "            counts_total[token] = count\n",
    "    return counts_total"
   ]
  },
  {
   "cell_type": "code",
   "execution_count": null,
   "metadata": {},
   "outputs": [],
   "source": [
    "# todo ?\n",
    "# def get_total_entropy(count_1: dict, count_2: dict) -> float:\n",
    "#     \"\"\"\n",
    "#     gets total entropy given 2 differenct count sets\n",
    "#     \"\"\"\n",
    "#     entropy = 0\n",
    "#     for token, count in count_1.items():\n",
    "#         if token in count_2:\n",
    "#             entropy += \n",
    "#     return entropy"
   ]
  },
  {
   "cell_type": "code",
   "execution_count": null,
   "metadata": {},
   "outputs": [],
   "source": [
    "def get_entropy(counts: dict) -> float:\n",
    "    \"\"\"\n",
    "    Calculate the entropy of a dictionary of token counts\n",
    "    \"\"\"\n",
    "    entropy = 0\n",
    "    total = sum(counts.values())\n",
    "    for token, count in counts.items():\n",
    "        if count > 0:\n",
    "            p = count / total\n",
    "            entropy = p * mt.log2(1/p)\n",
    "    return entropy"
   ]
  },
  {
   "cell_type": "code",
   "execution_count": 179,
   "metadata": {},
   "outputs": [],
   "source": [
    "def get_cross_entropy(counts: dict, counts_2: dict) -> float:\n",
    "    \"\"\"\n",
    "    Calculate the cross-entropy of a dictionary of token counts\n",
    "\n",
    "    if token not in count_2, then q = p\n",
    "    \n",
    "    \"\"\"\n",
    "    entropy = 0\n",
    "    total = sum(counts.values())\n",
    "    for token, count in counts.items():\n",
    "        if count > 0:\n",
    "            p = count / total\n",
    "            if token in counts_2:\n",
    "                q = counts_2[token] / total\n",
    "                entropy = p * mt.log2(1/q)\n",
    "            else:\n",
    "                entropy = p * mt.log2(1/p)\n",
    "    return entropy"
   ]
  },
  {
   "cell_type": "code",
   "execution_count": 190,
   "metadata": {},
   "outputs": [
    {
     "data": {
      "text/plain": [
       "117    A synchronous compensator as claimed in claim ...\n",
       "118    A synchronous compensator as claimed in claim ...\n",
       "119    A cryogen-cooled synchronous compensator, comp...\n",
       "121    A synchronous compensator as claimed in claim ...\n",
       "122    A synchronous compensator as claimed in claim ...\n",
       "123    A synchronous compensator as claimed in claim ...\n",
       "124    A synchronous compensator as claimed in claim ...\n",
       "Name: Text, dtype: object"
      ]
     },
     "execution_count": 190,
     "metadata": {},
     "output_type": "execute_result"
    }
   ],
   "source": [
    "claims"
   ]
  },
  {
   "cell_type": "code",
   "execution_count": 189,
   "metadata": {},
   "outputs": [
    {
     "data": {
      "text/plain": [
       "[('said', 27),\n",
       " ('claim', 12),\n",
       " ('hous', 9),\n",
       " ('compens', 7),\n",
       " ('cryostat', 7),\n",
       " ('synchron', 7),\n",
       " ('wind', 7),\n",
       " ('airtight', 6),\n",
       " ('assembl', 6),\n",
       " ('rotor', 6),\n",
       " ('armatur', 5),\n",
       " ('made', 5),\n",
       " ('wherein', 5),\n",
       " ('field', 4),\n",
       " ('fix', 4),\n",
       " ('materi', 4),\n",
       " ('mount', 4),\n",
       " ('superconduct', 4),\n",
       " ('compris', 3),\n",
       " ('helium', 3),\n",
       " ('space', 3),\n",
       " ('within', 3),\n",
       " ('accommod', 2),\n",
       " ('arrang', 2),\n",
       " ('bear', 2),\n",
       " ('contact', 2),\n",
       " ('cryogen', 2),\n",
       " ('direct', 2),\n",
       " ('exhibit', 2),\n",
       " ('gaseous', 2),\n",
       " ('generat', 2),\n",
       " ('inner', 2),\n",
       " ('low', 2),\n",
       " ('outer', 2),\n",
       " ('race', 2),\n",
       " ('screen', 2),\n",
       " ('shaft', 2),\n",
       " ('surfac', 2),\n",
       " ('temperatur', 2),\n",
       " ('adapt', 1),\n",
       " ('coaxial', 1),\n",
       " ('coil', 1),\n",
       " ('conductor', 1),\n",
       " ('cryogen-cool', 1),\n",
       " ('current', 1),\n",
       " ('effect', 1),\n",
       " ('electr', 1),\n",
       " ('embrac', 1),\n",
       " ('enclos', 1),\n",
       " ('fill', 1),\n",
       " ('fluid', 1),\n",
       " ('frame', 1),\n",
       " ('group', 1),\n",
       " ('includ', 1),\n",
       " ('interconnect', 1),\n",
       " ('intern', 1),\n",
       " ('liquid', 1),\n",
       " ('locat', 1),\n",
       " ('machin', 1),\n",
       " ('magnet', 1),\n",
       " ('member', 1),\n",
       " ('motor', 1),\n",
       " ('open', 1),\n",
       " ('pass', 1),\n",
       " ('plural', 1),\n",
       " ('posit', 1),\n",
       " ('power', 1),\n",
       " ('predetermin', 1),\n",
       " ('prevent', 1),\n",
       " ('provid', 1),\n",
       " ('rotat', 1),\n",
       " ('serv', 1),\n",
       " ('sheet', 1),\n",
       " ('start', 1),\n",
       " ('suffici', 1),\n",
       " ('therethrough', 1),\n",
       " ('vertic', 1),\n",
       " ('whose', 1),\n",
       " ('rotari', 0),\n",
       " ('suppli', 0)]"
      ]
     },
     "execution_count": 189,
     "metadata": {},
     "output_type": "execute_result"
    }
   ],
   "source": [
    "pubs = df['Publn_Nr'].unique()\n",
    "\n",
    "pub_nr = pubs[10]  # test\n",
    "\n",
    "claims = get_claims(df, pub_nr)\n",
    "text = concantenate_claims(claims)  # concantenate claims\n",
    "tokens, count = get_tokens(text)    # get tokens and counts of words\n",
    "tokens\n"
   ]
  },
  {
   "cell_type": "code",
   "execution_count": null,
   "metadata": {},
   "outputs": [],
   "source": [
    "# get claims ordered by publication date\n",
    "entropies = []   # conditional entropies for each patent, sorted by publication date\n",
    "counts_total = {}\n",
    "\n",
    "counts_dict = {}\n",
    "\n",
    "j = 0\n",
    "for pub_nr in df['Publn_Nr'].unique():\n",
    "    claims = get_claims(df, pub_nr)\n",
    "    if claims.empty:\n",
    "        entropies.append(np.nan)  # add NA if no claims in data set\n",
    "        continue    # skip if no claims in data set\n",
    "    text = concantenate_claims(claims)  # concantenate claims\n",
    "    tokens, count = get_tokens(text)    # get tokens and counts of words\n",
    "    counts_total = update_total_counts(counts_total, count)  # update total counts for conditional entropy\n",
    "    \n",
    "    # get conditional entropy fixme: get negatives because probability distribution not defined nicely\n",
    "    \"\"\"\n",
    "    H(X|Y) = H(X,Y) - H(Y)\n",
    "    does not work as H(X,Y) may be smaller then H(Y) in the way that we define probabilities (relative frequency of words).\n",
    "    approximation: H(X|Y) = H(X) so Y, X indpendent\n",
    "    \"\"\"\n",
    "    entropy = get_entropy(counts_total)\n",
    "    entropies.append(entropy)\n",
    "\n",
    "    # get entropy of compared to the last 20 patents\n",
    "    \"\"\"\n",
    "    H_Y(X) where Y is the last 20 patents, X is the new patent\n",
    "    it shows a very fluctuating plot, as expected, as the innovation is always \"normalized\" compared to the last 20 patents\n",
    "    \"\"\"\n",
    "    # counts_dict[pub_nr] = count\n",
    "    # if len(counts_dict) > 20:\n",
    "    #     last_20 = dict(list(counts_dict.items())[-20:])\n",
    "    #     cond_entropy = get_cross_entropy(count, last_20)\n",
    "    #     entropies.append(cond_entropy)\n",
    "    # else:\n",
    "    #     entropies.append(np.nan)\n",
    "    \n",
    "    \n",
    "    # get single entropy\n",
    "    \"\"\"\n",
    "    similar to H_Y(X) \n",
    "    \"\"\"\n",
    "    # cond_entropy = get_entropy(count)\n",
    "    "
   ]
  },
  {
   "cell_type": "code",
   "execution_count": 181,
   "metadata": {},
   "outputs": [],
   "source": [
    "df_unique = df.drop_duplicates(subset=['Publn_Nr'])[['Publn_Nr', 'Publn_Date']]\n",
    "df_unique['Entropy'] = entropies"
   ]
  },
  {
   "cell_type": "code",
   "execution_count": 216,
   "metadata": {},
   "outputs": [],
   "source": [
    "df_unique['Publn_Date'] = pd.to_datetime(df_unique['Publn_Date'])"
   ]
  },
  {
   "cell_type": "code",
   "execution_count": 223,
   "metadata": {},
   "outputs": [],
   "source": [
    "start = df_unique['Publn_Date'].values[0]\n",
    "end = start + pd.DateOffset(years=1)"
   ]
  },
  {
   "cell_type": "code",
   "execution_count": 231,
   "metadata": {},
   "outputs": [
    {
     "data": {
      "image/png": "[encoded data removed]",
      "text/plain": [
       "<Figure size 640x480 with 1 Axes>"
      ]
     },
     "metadata": {},
     "output_type": "display_data"
    }
   ],
   "source": [
    "df_unique.plot(x='Publn_Date', y='Entropy', kind='line', marker='o', title=f'Total Entropy for {n} patents, 1 year')\n",
    "plt.xlim(start, end)\n",
    "plt.show()"
   ]
  },
  {
   "cell_type": "code",
   "execution_count": 183,
   "metadata": {},
   "outputs": [],
   "source": [
    "df_unique.to_csv(f'entropy_data/entropy_{n}.csv', index=False)"
   ]
  }
 ],
 "metadata": {
  "kernelspec": {
   "display_name": ".venv",
   "language": "python",
   "name": "python3"
  },
  "language_info": {
   "codemirror_mode": {
    "name": "ipython",
    "version": 3
   },
   "file_extension": ".py",
   "mimetype": "text/x-python",
   "name": "python",
   "nbconvert_exporter": "python",
   "pygments_lexer": "ipython3",
   "version": "3.11.8"
  }
 },
 "nbformat": 4,
 "nbformat_minor": 2
}
