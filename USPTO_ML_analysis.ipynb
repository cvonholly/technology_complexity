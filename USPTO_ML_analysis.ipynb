{
 "cells": [
  {
   "cell_type": "code",
   "execution_count": 56,
   "metadata": {},
   "outputs": [],
   "source": [
    "# Load model directly\n",
    "from transformers import AutoTokenizer, AutoModelForSeq2SeqLM\n",
    "\n",
    "tokenizer = AutoTokenizer.from_pretrained(\"ilsilfverskiold/tech-keywords-extractor\")\n",
    "model = AutoModelForSeq2SeqLM.from_pretrained(\"ilsilfverskiold/tech-keywords-extractor\")"
   ]
  },
  {
   "cell_type": "markdown",
   "metadata": {},
   "source": [
    "This model finds the most important keywords in a sentence. This is used to filter the claims text to an accaptable length and then calculate the entropy."
   ]
  },
  {
   "cell_type": "code",
   "execution_count": 57,
   "metadata": {},
   "outputs": [],
   "source": [
    "sequence = \"I have a problem with my code. I am trying to run a python script that uses the pandas library. However, I keep getting an error message that says 'no module named pandas'. I have tried reinstalling the library, but that did not fix the issue. Can someone help me troubleshoot this problem?\"\n",
    "\n",
    "tokens = tokenizer(sequence, padding=True, truncation=True, return_tensors=\"pt\")\n",
    "\n",
    "summary = model.generate(**tokens)"
   ]
  },
  {
   "cell_type": "code",
   "execution_count": 58,
   "metadata": {},
   "outputs": [
    {
     "data": {
      "text/plain": [
       "'Python, Pandas, Error Message'"
      ]
     },
     "execution_count": 58,
     "metadata": {},
     "output_type": "execute_result"
    }
   ],
   "source": [
    "tokenizer.decode(summary[0], skip_special_tokens=True)"
   ]
  },
  {
   "cell_type": "code",
   "execution_count": 59,
   "metadata": {},
   "outputs": [],
   "source": [
    "import pandas as pd\n",
    "import math as mt\n",
    "import re\n",
    "import numpy as np\n",
    "import matplotlib.pyplot as plt\n",
    "from nltk.stem.snowball import SnowballStemmer\n",
    "from nltk.corpus import stopwords\n",
    "import nltk\n",
    "import operator\n",
    "import re\n",
    "\n",
    "from helpers import *"
   ]
  },
  {
   "cell_type": "code",
   "execution_count": 60,
   "metadata": {},
   "outputs": [],
   "source": [
    "def update_total_counts(counts_total: dict, tokens: list) -> dict:\n",
    "    for token, count in tokens.items():\n",
    "        if token in counts_total:\n",
    "            counts_total[token] += count\n",
    "        else:\n",
    "            counts_total[token] = count\n",
    "    return counts_total\n",
    "\n",
    "def get_entropy(counts: dict) -> float:\n",
    "    \"\"\"\n",
    "    Calculate the entropy of a dictionary of token counts\n",
    "    \"\"\"\n",
    "    entropy = 0\n",
    "    total = sum(counts.values())\n",
    "    for token, count in counts.items():\n",
    "        if count > 0:\n",
    "            p = count / total\n",
    "            entropy = p * mt.log2(1/p)\n",
    "    return entropy"
   ]
  },
  {
   "cell_type": "code",
   "execution_count": 61,
   "metadata": {},
   "outputs": [],
   "source": [
    "names = [\"FW\", \"LC\", \"LIB\",  \"SC\", \"SPV\", \"Wind\"]  # technology file names\n",
    "n = \"Wind\"  # other tech"
   ]
  },
  {
   "cell_type": "code",
   "execution_count": 62,
   "metadata": {},
   "outputs": [],
   "source": [
    "df = pd.read_excel(f'sorted_data/DB_{n}_USPTO_sorted.xlsx')\n",
    "df['Publn_Nr'] = df['Publn_Nr'].astype(int)"
   ]
  },
  {
   "cell_type": "code",
   "execution_count": 63,
   "metadata": {},
   "outputs": [],
   "source": [
    "patent_claims = []  # list to store all patents claims for technology for year\n",
    "list_replace = []\n",
    "stwrds = stopwords.words('english')\n",
    "stemmer = SnowballStemmer('english')"
   ]
  },
  {
   "cell_type": "code",
   "execution_count": 64,
   "metadata": {},
   "outputs": [],
   "source": [
    "def get_tokens(text: str) -> tuple[list, dict]:\n",
    "    # Standardize greek letters and eliminate symbols\n",
    "    line = text.strip().lower()\n",
    "    # Standardize greek letters and eliminate symbols\n",
    "    for r in list_replace:\n",
    "        line = line.replace(*r)\n",
    "    # Replace .sub. and .sup. in each patent\n",
    "    line = line.replace('.sub.', '')\n",
    "    line = line.replace('.sup.', '')\n",
    "\n",
    "    # Tokenize the text\n",
    "    tokens_encoded = tokenizer(line, padding=True, truncation=True, return_tensors=\"pt\")\n",
    "\n",
    "    summary = model.generate(**tokens_encoded)\n",
    "\n",
    "    tokens_decoded = tokenizer.decode(summary[0], skip_special_tokens=True)\n",
    "\n",
    "    # convert to list\n",
    "    tokens = tokens_decoded.lower().replace(',', '').split()\n",
    "\n",
    "    # count\n",
    "    count = {}\n",
    "    for token in tokens:\n",
    "        count[token] = text.count(token)\n",
    "\n",
    "    return tokens, count"
   ]
  },
  {
   "cell_type": "code",
   "execution_count": null,
   "metadata": {},
   "outputs": [],
   "source": [
    "# get claims ordered by publication date\n",
    "entropies = []   # conditional entropies for each patent, sorted by publication date\n",
    "counts_total = {}\n",
    "\n",
    "counts_dict = {}\n",
    "\n",
    "\n",
    "for pub_nr in df['Publn_Nr'].unique():\n",
    "    claims = get_claims(df, pub_nr)\n",
    "    if claims.empty:\n",
    "        entropies.append(np.nan)  # add NA if no claims in data set\n",
    "        continue    # skip if no claims in data set\n",
    "    text = concantenate_claims(claims)  # concantenate claims\n",
    "    tokens, count = get_tokens(text)    # get tokens and counts of words\n",
    "    counts_total = update_total_counts(counts_total, count)   # update total counts for conditional entropy\n",
    "\n",
    "    # get conditional entropy fixme: get negatives because probability distribution not defined nicely\n",
    "    \"\"\"\n",
    "    H(X|Y) = H(X,Y) - H(Y)\n",
    "    does not work as H(X,Y) may be smaller then H(Y) in the way that we define probabilities (relative frequency of words).\n",
    "    approximation: H(X|Y) = H(X)\n",
    "    \"\"\"\n",
    "    cond_entropy = get_entropy(counts_total) # - get_entropy(count)\n",
    "    entropies.append(cond_entropy)\n",
    "\n",
    "    # get entropy of compared to the last 20 patents\n",
    "    \"\"\"\n",
    "    H_Y(X) where Y is the last 20 patents, X is the new patent\n",
    "    it shows a very fluctuating plot, as expected, as the innovation is always \"normalized\" compared to the last 20 patents\n",
    "    \"\"\"\n",
    "    # counts_dict[pub_nr] = count\n",
    "    # if len(counts_dict) > 20:\n",
    "    #     last_20 = dict(list(counts_dict.items())[-20:])\n",
    "    #     cond_entropy = get_cross_entropy(count, last_20)\n",
    "    #     entropies.append(cond_entropy)\n",
    "    # else:\n",
    "    #     entropies.append(np.nan)\n",
    "    \n",
    "    \n",
    "    # get single entropy\n",
    "    \"\"\"\n",
    "    similar to H_Y(X) \n",
    "    \"\"\"\n",
    "    # cond_entropy = get_entropy(count)"
   ]
  },
  {
   "cell_type": "code",
   "execution_count": 66,
   "metadata": {},
   "outputs": [],
   "source": [
    "df_unique = df.drop_duplicates(subset=['Publn_Nr'])[['Publn_Nr', 'Publn_Date']]\n",
    "df_unique['Entropy'] = entropies"
   ]
  },
  {
   "cell_type": "code",
   "execution_count": 78,
   "metadata": {},
   "outputs": [
    {
     "data": {
      "text/plain": [
       "Publn_Nr         4149092\n",
       "Publn_Date    1979-04-10\n",
       "Entropy         0.383376\n",
       "Name: 661, dtype: object"
      ]
     },
     "execution_count": 78,
     "metadata": {},
     "output_type": "execute_result"
    }
   ],
   "source": [
    "df_unique.loc[int(df_unique['Entropy'].idxmax())]"
   ]
  },
  {
   "cell_type": "code",
   "execution_count": 79,
   "metadata": {},
   "outputs": [
    {
     "data": {
      "text/html": [
       "<div>\n",
       "<style scoped>\n",
       "    .dataframe tbody tr th:only-of-type {\n",
       "        vertical-align: middle;\n",
       "    }\n",
       "\n",
       "    .dataframe tbody tr th {\n",
       "        vertical-align: top;\n",
       "    }\n",
       "\n",
       "    .dataframe thead th {\n",
       "        text-align: right;\n",
       "    }\n",
       "</style>\n",
       "<table border=\"1\" class=\"dataframe\">\n",
       "  <thead>\n",
       "    <tr style=\"text-align: right;\">\n",
       "      <th></th>\n",
       "      <th>Publn_Nr</th>\n",
       "      <th>Publn_Date</th>\n",
       "      <th>Entropy</th>\n",
       "    </tr>\n",
       "  </thead>\n",
       "  <tbody>\n",
       "    <tr>\n",
       "      <th>1</th>\n",
       "      <td>3942026</td>\n",
       "      <td>1976-03-02</td>\n",
       "      <td>0.320160</td>\n",
       "    </tr>\n",
       "    <tr>\n",
       "      <th>661</th>\n",
       "      <td>4149092</td>\n",
       "      <td>1979-04-10</td>\n",
       "      <td>0.383376</td>\n",
       "    </tr>\n",
       "  </tbody>\n",
       "</table>\n",
       "</div>"
      ],
      "text/plain": [
       "     Publn_Nr  Publn_Date   Entropy\n",
       "1     3942026  1976-03-02  0.320160\n",
       "661   4149092  1979-04-10  0.383376"
      ]
     },
     "execution_count": 79,
     "metadata": {},
     "output_type": "execute_result"
    }
   ],
   "source": [
    "df_unique[df_unique['Entropy'] > .3]"
   ]
  },
  {
   "cell_type": "code",
   "execution_count": 67,
   "metadata": {},
   "outputs": [
    {
     "data": {
      "image/png": "[encoded data removed]",
      "text/plain": [
       "<Figure size 640x480 with 1 Axes>"
      ]
     },
     "metadata": {},
     "output_type": "display_data"
    }
   ],
   "source": [
    "df_unique.plot(x='Publn_Date', y='Entropy', kind='line', marker='o', title=f'Total Entropy for {n} patents')\n",
    "plt.show()"
   ]
  },
  {
   "cell_type": "code",
   "execution_count": 68,
   "metadata": {},
   "outputs": [],
   "source": [
    "df_unique.to_csv(f'entropy_data/ML_data/entropy_{n}.csv', index=False)"
   ]
  }
 ],
 "metadata": {
  "kernelspec": {
   "display_name": ".venv",
   "language": "python",
   "name": "python3"
  },
  "language_info": {
   "codemirror_mode": {
    "name": "ipython",
    "version": 3
   },
   "file_extension": ".py",
   "mimetype": "text/x-python",
   "name": "python",
   "nbconvert_exporter": "python",
   "pygments_lexer": "ipython3",
   "version": "3.11.8"
  }
 },
 "nbformat": 4,
 "nbformat_minor": 2
}
